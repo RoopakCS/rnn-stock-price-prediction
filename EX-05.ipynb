{
  "nbformat": 4,
  "nbformat_minor": 0,
  "metadata": {
    "colab": {
      "provenance": [],
      "gpuType": "T4"
    },
    "kernelspec": {
      "name": "python3",
      "display_name": "Python 3"
    },
    "language_info": {
      "name": "python"
    },
    "accelerator": "GPU"
  },
  "cells": [
    {
      "cell_type": "markdown",
      "source": [
        "**Name: Roopak C S**\n",
        "\n",
        "**Register number: 212223220088**"
      ],
      "metadata": {
        "id": "FjEgDNsBzAW9"
      }
    },
    {
      "cell_type": "code",
      "execution_count": null,
      "metadata": {
        "id": "rWulUnXvE0XQ"
      },
      "outputs": [],
      "source": [
        "import numpy as np\n",
        "import matplotlib.pyplot as plt\n",
        "import pandas as pd\n",
        "from sklearn.preprocessing import MinMaxScaler\n",
        "from keras import layers\n",
        "from keras.models import Sequential"
      ]
    },
    {
      "cell_type": "code",
      "source": [
        "dataset_train = pd.read_csv('trainset.csv')\n"
      ],
      "metadata": {
        "id": "G9yM-i2fGSeD"
      },
      "execution_count": null,
      "outputs": []
    },
    {
      "cell_type": "code",
      "source": [
        "dataset_train.columns"
      ],
      "metadata": {
        "id": "ZnNFxG1yHJXj",
        "colab": {
          "base_uri": "https://localhost:8080/"
        },
        "outputId": "383eed18-8541-4175-a300-6b9d018e9979"
      },
      "execution_count": null,
      "outputs": [
        {
          "output_type": "execute_result",
          "data": {
            "text/plain": [
              "Index(['Date', 'Open', 'High', 'Low', 'Close', 'Adj Close', 'Volume'], dtype='object')"
            ]
          },
          "metadata": {},
          "execution_count": 3
        }
      ]
    },
    {
      "cell_type": "code",
      "source": [
        "dataset_train.head()"
      ],
      "metadata": {
        "id": "ioHdtmFxHSQ5",
        "colab": {
          "base_uri": "https://localhost:8080/",
          "height": 206
        },
        "outputId": "14d19846-a461-4b69-ec0d-f8f17de2273b"
      },
      "execution_count": null,
      "outputs": [
        {
          "output_type": "execute_result",
          "data": {
            "text/plain": [
              "         Date        Open        High         Low       Close   Adj Close  \\\n",
              "0  2013-01-02  357.385559  361.151062  355.959839  359.288177  359.288177   \n",
              "1  2013-01-03  360.122742  363.600128  358.031342  359.496826  359.496826   \n",
              "2  2013-01-04  362.313507  368.339294  361.488861  366.600616  366.600616   \n",
              "3  2013-01-07  365.348755  367.301056  362.929504  365.001007  365.001007   \n",
              "4  2013-01-08  365.393463  365.771027  359.874359  364.280701  364.280701   \n",
              "\n",
              "    Volume  \n",
              "0  5115500  \n",
              "1  4666500  \n",
              "2  5562800  \n",
              "3  3332900  \n",
              "4  3373900  "
            ],
            "text/html": [
              "\n",
              "  <div id=\"df-46696eef-0f88-4044-9237-668268aeb3a6\" class=\"colab-df-container\">\n",
              "    <div>\n",
              "<style scoped>\n",
              "    .dataframe tbody tr th:only-of-type {\n",
              "        vertical-align: middle;\n",
              "    }\n",
              "\n",
              "    .dataframe tbody tr th {\n",
              "        vertical-align: top;\n",
              "    }\n",
              "\n",
              "    .dataframe thead th {\n",
              "        text-align: right;\n",
              "    }\n",
              "</style>\n",
              "<table border=\"1\" class=\"dataframe\">\n",
              "  <thead>\n",
              "    <tr style=\"text-align: right;\">\n",
              "      <th></th>\n",
              "      <th>Date</th>\n",
              "      <th>Open</th>\n",
              "      <th>High</th>\n",
              "      <th>Low</th>\n",
              "      <th>Close</th>\n",
              "      <th>Adj Close</th>\n",
              "      <th>Volume</th>\n",
              "    </tr>\n",
              "  </thead>\n",
              "  <tbody>\n",
              "    <tr>\n",
              "      <th>0</th>\n",
              "      <td>2013-01-02</td>\n",
              "      <td>357.385559</td>\n",
              "      <td>361.151062</td>\n",
              "      <td>355.959839</td>\n",
              "      <td>359.288177</td>\n",
              "      <td>359.288177</td>\n",
              "      <td>5115500</td>\n",
              "    </tr>\n",
              "    <tr>\n",
              "      <th>1</th>\n",
              "      <td>2013-01-03</td>\n",
              "      <td>360.122742</td>\n",
              "      <td>363.600128</td>\n",
              "      <td>358.031342</td>\n",
              "      <td>359.496826</td>\n",
              "      <td>359.496826</td>\n",
              "      <td>4666500</td>\n",
              "    </tr>\n",
              "    <tr>\n",
              "      <th>2</th>\n",
              "      <td>2013-01-04</td>\n",
              "      <td>362.313507</td>\n",
              "      <td>368.339294</td>\n",
              "      <td>361.488861</td>\n",
              "      <td>366.600616</td>\n",
              "      <td>366.600616</td>\n",
              "      <td>5562800</td>\n",
              "    </tr>\n",
              "    <tr>\n",
              "      <th>3</th>\n",
              "      <td>2013-01-07</td>\n",
              "      <td>365.348755</td>\n",
              "      <td>367.301056</td>\n",
              "      <td>362.929504</td>\n",
              "      <td>365.001007</td>\n",
              "      <td>365.001007</td>\n",
              "      <td>3332900</td>\n",
              "    </tr>\n",
              "    <tr>\n",
              "      <th>4</th>\n",
              "      <td>2013-01-08</td>\n",
              "      <td>365.393463</td>\n",
              "      <td>365.771027</td>\n",
              "      <td>359.874359</td>\n",
              "      <td>364.280701</td>\n",
              "      <td>364.280701</td>\n",
              "      <td>3373900</td>\n",
              "    </tr>\n",
              "  </tbody>\n",
              "</table>\n",
              "</div>\n",
              "    <div class=\"colab-df-buttons\">\n",
              "\n",
              "  <div class=\"colab-df-container\">\n",
              "    <button class=\"colab-df-convert\" onclick=\"convertToInteractive('df-46696eef-0f88-4044-9237-668268aeb3a6')\"\n",
              "            title=\"Convert this dataframe to an interactive table.\"\n",
              "            style=\"display:none;\">\n",
              "\n",
              "  <svg xmlns=\"http://www.w3.org/2000/svg\" height=\"24px\" viewBox=\"0 -960 960 960\">\n",
              "    <path d=\"M120-120v-720h720v720H120Zm60-500h600v-160H180v160Zm220 220h160v-160H400v160Zm0 220h160v-160H400v160ZM180-400h160v-160H180v160Zm440 0h160v-160H620v160ZM180-180h160v-160H180v160Zm440 0h160v-160H620v160Z\"/>\n",
              "  </svg>\n",
              "    </button>\n",
              "\n",
              "  <style>\n",
              "    .colab-df-container {\n",
              "      display:flex;\n",
              "      gap: 12px;\n",
              "    }\n",
              "\n",
              "    .colab-df-convert {\n",
              "      background-color: #E8F0FE;\n",
              "      border: none;\n",
              "      border-radius: 50%;\n",
              "      cursor: pointer;\n",
              "      display: none;\n",
              "      fill: #1967D2;\n",
              "      height: 32px;\n",
              "      padding: 0 0 0 0;\n",
              "      width: 32px;\n",
              "    }\n",
              "\n",
              "    .colab-df-convert:hover {\n",
              "      background-color: #E2EBFA;\n",
              "      box-shadow: 0px 1px 2px rgba(60, 64, 67, 0.3), 0px 1px 3px 1px rgba(60, 64, 67, 0.15);\n",
              "      fill: #174EA6;\n",
              "    }\n",
              "\n",
              "    .colab-df-buttons div {\n",
              "      margin-bottom: 4px;\n",
              "    }\n",
              "\n",
              "    [theme=dark] .colab-df-convert {\n",
              "      background-color: #3B4455;\n",
              "      fill: #D2E3FC;\n",
              "    }\n",
              "\n",
              "    [theme=dark] .colab-df-convert:hover {\n",
              "      background-color: #434B5C;\n",
              "      box-shadow: 0px 1px 3px 1px rgba(0, 0, 0, 0.15);\n",
              "      filter: drop-shadow(0px 1px 2px rgba(0, 0, 0, 0.3));\n",
              "      fill: #FFFFFF;\n",
              "    }\n",
              "  </style>\n",
              "\n",
              "    <script>\n",
              "      const buttonEl =\n",
              "        document.querySelector('#df-46696eef-0f88-4044-9237-668268aeb3a6 button.colab-df-convert');\n",
              "      buttonEl.style.display =\n",
              "        google.colab.kernel.accessAllowed ? 'block' : 'none';\n",
              "\n",
              "      async function convertToInteractive(key) {\n",
              "        const element = document.querySelector('#df-46696eef-0f88-4044-9237-668268aeb3a6');\n",
              "        const dataTable =\n",
              "          await google.colab.kernel.invokeFunction('convertToInteractive',\n",
              "                                                    [key], {});\n",
              "        if (!dataTable) return;\n",
              "\n",
              "        const docLinkHtml = 'Like what you see? Visit the ' +\n",
              "          '<a target=\"_blank\" href=https://colab.research.google.com/notebooks/data_table.ipynb>data table notebook</a>'\n",
              "          + ' to learn more about interactive tables.';\n",
              "        element.innerHTML = '';\n",
              "        dataTable['output_type'] = 'display_data';\n",
              "        await google.colab.output.renderOutput(dataTable, element);\n",
              "        const docLink = document.createElement('div');\n",
              "        docLink.innerHTML = docLinkHtml;\n",
              "        element.appendChild(docLink);\n",
              "      }\n",
              "    </script>\n",
              "  </div>\n",
              "\n",
              "\n",
              "<div id=\"df-f09fab53-b3a3-4f28-afeb-432896e56c63\">\n",
              "  <button class=\"colab-df-quickchart\" onclick=\"quickchart('df-f09fab53-b3a3-4f28-afeb-432896e56c63')\"\n",
              "            title=\"Suggest charts\"\n",
              "            style=\"display:none;\">\n",
              "\n",
              "<svg xmlns=\"http://www.w3.org/2000/svg\" height=\"24px\"viewBox=\"0 0 24 24\"\n",
              "     width=\"24px\">\n",
              "    <g>\n",
              "        <path d=\"M19 3H5c-1.1 0-2 .9-2 2v14c0 1.1.9 2 2 2h14c1.1 0 2-.9 2-2V5c0-1.1-.9-2-2-2zM9 17H7v-7h2v7zm4 0h-2V7h2v10zm4 0h-2v-4h2v4z\"/>\n",
              "    </g>\n",
              "</svg>\n",
              "  </button>\n",
              "\n",
              "<style>\n",
              "  .colab-df-quickchart {\n",
              "      --bg-color: #E8F0FE;\n",
              "      --fill-color: #1967D2;\n",
              "      --hover-bg-color: #E2EBFA;\n",
              "      --hover-fill-color: #174EA6;\n",
              "      --disabled-fill-color: #AAA;\n",
              "      --disabled-bg-color: #DDD;\n",
              "  }\n",
              "\n",
              "  [theme=dark] .colab-df-quickchart {\n",
              "      --bg-color: #3B4455;\n",
              "      --fill-color: #D2E3FC;\n",
              "      --hover-bg-color: #434B5C;\n",
              "      --hover-fill-color: #FFFFFF;\n",
              "      --disabled-bg-color: #3B4455;\n",
              "      --disabled-fill-color: #666;\n",
              "  }\n",
              "\n",
              "  .colab-df-quickchart {\n",
              "    background-color: var(--bg-color);\n",
              "    border: none;\n",
              "    border-radius: 50%;\n",
              "    cursor: pointer;\n",
              "    display: none;\n",
              "    fill: var(--fill-color);\n",
              "    height: 32px;\n",
              "    padding: 0;\n",
              "    width: 32px;\n",
              "  }\n",
              "\n",
              "  .colab-df-quickchart:hover {\n",
              "    background-color: var(--hover-bg-color);\n",
              "    box-shadow: 0 1px 2px rgba(60, 64, 67, 0.3), 0 1px 3px 1px rgba(60, 64, 67, 0.15);\n",
              "    fill: var(--button-hover-fill-color);\n",
              "  }\n",
              "\n",
              "  .colab-df-quickchart-complete:disabled,\n",
              "  .colab-df-quickchart-complete:disabled:hover {\n",
              "    background-color: var(--disabled-bg-color);\n",
              "    fill: var(--disabled-fill-color);\n",
              "    box-shadow: none;\n",
              "  }\n",
              "\n",
              "  .colab-df-spinner {\n",
              "    border: 2px solid var(--fill-color);\n",
              "    border-color: transparent;\n",
              "    border-bottom-color: var(--fill-color);\n",
              "    animation:\n",
              "      spin 1s steps(1) infinite;\n",
              "  }\n",
              "\n",
              "  @keyframes spin {\n",
              "    0% {\n",
              "      border-color: transparent;\n",
              "      border-bottom-color: var(--fill-color);\n",
              "      border-left-color: var(--fill-color);\n",
              "    }\n",
              "    20% {\n",
              "      border-color: transparent;\n",
              "      border-left-color: var(--fill-color);\n",
              "      border-top-color: var(--fill-color);\n",
              "    }\n",
              "    30% {\n",
              "      border-color: transparent;\n",
              "      border-left-color: var(--fill-color);\n",
              "      border-top-color: var(--fill-color);\n",
              "      border-right-color: var(--fill-color);\n",
              "    }\n",
              "    40% {\n",
              "      border-color: transparent;\n",
              "      border-right-color: var(--fill-color);\n",
              "      border-top-color: var(--fill-color);\n",
              "    }\n",
              "    60% {\n",
              "      border-color: transparent;\n",
              "      border-right-color: var(--fill-color);\n",
              "    }\n",
              "    80% {\n",
              "      border-color: transparent;\n",
              "      border-right-color: var(--fill-color);\n",
              "      border-bottom-color: var(--fill-color);\n",
              "    }\n",
              "    90% {\n",
              "      border-color: transparent;\n",
              "      border-bottom-color: var(--fill-color);\n",
              "    }\n",
              "  }\n",
              "</style>\n",
              "\n",
              "  <script>\n",
              "    async function quickchart(key) {\n",
              "      const quickchartButtonEl =\n",
              "        document.querySelector('#' + key + ' button');\n",
              "      quickchartButtonEl.disabled = true;  // To prevent multiple clicks.\n",
              "      quickchartButtonEl.classList.add('colab-df-spinner');\n",
              "      try {\n",
              "        const charts = await google.colab.kernel.invokeFunction(\n",
              "            'suggestCharts', [key], {});\n",
              "      } catch (error) {\n",
              "        console.error('Error during call to suggestCharts:', error);\n",
              "      }\n",
              "      quickchartButtonEl.classList.remove('colab-df-spinner');\n",
              "      quickchartButtonEl.classList.add('colab-df-quickchart-complete');\n",
              "    }\n",
              "    (() => {\n",
              "      let quickchartButtonEl =\n",
              "        document.querySelector('#df-f09fab53-b3a3-4f28-afeb-432896e56c63 button');\n",
              "      quickchartButtonEl.style.display =\n",
              "        google.colab.kernel.accessAllowed ? 'block' : 'none';\n",
              "    })();\n",
              "  </script>\n",
              "</div>\n",
              "\n",
              "    </div>\n",
              "  </div>\n"
            ],
            "application/vnd.google.colaboratory.intrinsic+json": {
              "type": "dataframe",
              "variable_name": "dataset_train",
              "summary": "{\n  \"name\": \"dataset_train\",\n  \"rows\": 1259,\n  \"fields\": [\n    {\n      \"column\": \"Date\",\n      \"properties\": {\n        \"dtype\": \"object\",\n        \"num_unique_values\": 1259,\n        \"samples\": [\n          \"2013-04-23\",\n          \"2017-01-30\",\n          \"2013-03-06\"\n        ],\n        \"semantic_type\": \"\",\n        \"description\": \"\"\n      }\n    },\n    {\n      \"column\": \"Open\",\n      \"properties\": {\n        \"dtype\": \"number\",\n        \"std\": 175.63057351209417,\n        \"min\": 350.053253,\n        \"max\": 1075.199951,\n        \"num_unique_values\": 1228,\n        \"samples\": [\n          727.580017,\n          524.118103,\n          553.40564\n        ],\n        \"semantic_type\": \"\",\n        \"description\": \"\"\n      }\n    },\n    {\n      \"column\": \"High\",\n      \"properties\": {\n        \"dtype\": \"number\",\n        \"std\": 176.62741611717948,\n        \"min\": 350.391052,\n        \"max\": 1078.48999,\n        \"num_unique_values\": 1239,\n        \"samples\": [\n          580.309143,\n          577.489014,\n          517.056946\n        ],\n        \"semantic_type\": \"\",\n        \"description\": \"\"\n      }\n    },\n    {\n      \"column\": \"Low\",\n      \"properties\": {\n        \"dtype\": \"number\",\n        \"std\": 174.73281352959697,\n        \"min\": 345.512787,\n        \"max\": 1063.550049,\n        \"num_unique_values\": 1240,\n        \"samples\": [\n          576.052551,\n          568.403076,\n          518.469177\n        ],\n        \"semantic_type\": \"\",\n        \"description\": \"\"\n      }\n    },\n    {\n      \"column\": \"Close\",\n      \"properties\": {\n        \"dtype\": \"number\",\n        \"std\": 175.82099273815913,\n        \"min\": 349.164032,\n        \"max\": 1077.140015,\n        \"num_unique_values\": 1245,\n        \"samples\": [\n          749.460022,\n          557.812866,\n          927.330017\n        ],\n        \"semantic_type\": \"\",\n        \"description\": \"\"\n      }\n    },\n    {\n      \"column\": \"Adj Close\",\n      \"properties\": {\n        \"dtype\": \"number\",\n        \"std\": 175.82099273815913,\n        \"min\": 349.164032,\n        \"max\": 1077.140015,\n        \"num_unique_values\": 1245,\n        \"samples\": [\n          749.460022,\n          557.812866,\n          927.330017\n        ],\n        \"semantic_type\": \"\",\n        \"description\": \"\"\n      }\n    },\n    {\n      \"column\": \"Volume\",\n      \"properties\": {\n        \"dtype\": \"number\",\n        \"std\": 1672159,\n        \"min\": 7900,\n        \"max\": 23283100,\n        \"num_unique_values\": 1228,\n        \"samples\": [\n          1837200,\n          2000000,\n          1477800\n        ],\n        \"semantic_type\": \"\",\n        \"description\": \"\"\n      }\n    }\n  ]\n}"
            }
          },
          "metadata": {},
          "execution_count": 14
        }
      ]
    },
    {
      "cell_type": "code",
      "source": [
        "train_set = dataset_train.iloc[:,1:2].values"
      ],
      "metadata": {
        "id": "od_Jh97fHxsp"
      },
      "execution_count": null,
      "outputs": []
    },
    {
      "cell_type": "code",
      "source": [
        "type(train_set)"
      ],
      "metadata": {
        "id": "ipOhkvP0H8Ki",
        "colab": {
          "base_uri": "https://localhost:8080/"
        },
        "outputId": "0c16837c-275b-4d2b-82cd-fb9671cad489"
      },
      "execution_count": null,
      "outputs": [
        {
          "output_type": "execute_result",
          "data": {
            "text/plain": [
              "numpy.ndarray"
            ]
          },
          "metadata": {},
          "execution_count": 6
        }
      ]
    },
    {
      "cell_type": "code",
      "source": [
        "train_set.shape"
      ],
      "metadata": {
        "id": "10qpaYabITYB",
        "colab": {
          "base_uri": "https://localhost:8080/"
        },
        "outputId": "e4626ee3-758f-480f-c8b3-798130ffcc6e"
      },
      "execution_count": null,
      "outputs": [
        {
          "output_type": "execute_result",
          "data": {
            "text/plain": [
              "(1259, 1)"
            ]
          },
          "metadata": {},
          "execution_count": 7
        }
      ]
    },
    {
      "cell_type": "code",
      "source": [
        "sc = MinMaxScaler(feature_range=(0,1))\n",
        "training_set_scaled = sc.fit_transform(train_set)"
      ],
      "metadata": {
        "id": "Wc5QNHisIMcp"
      },
      "execution_count": null,
      "outputs": []
    },
    {
      "cell_type": "code",
      "source": [
        "training_set_scaled.shape"
      ],
      "metadata": {
        "id": "VYMccXBzjMzz",
        "colab": {
          "base_uri": "https://localhost:8080/"
        },
        "outputId": "84527c52-85e2-4c1e-a508-05c67e8d1c6e"
      },
      "execution_count": null,
      "outputs": [
        {
          "output_type": "execute_result",
          "data": {
            "text/plain": [
              "(1259, 1)"
            ]
          },
          "metadata": {},
          "execution_count": 9
        }
      ]
    },
    {
      "cell_type": "code",
      "source": [
        "X_train_array = []\n",
        "y_train_array = []\n",
        "for i in range(60, 1259):\n",
        "  X_train_array.append(training_set_scaled[i-60:i,0])\n",
        "  y_train_array.append(training_set_scaled[i,0])\n",
        "X_train, y_train = np.array(X_train_array), np.array(y_train_array)\n",
        "X_train1 = X_train.reshape((X_train.shape[0], X_train.shape[1],1))\n"
      ],
      "metadata": {
        "id": "qO7NJjsCI1qq"
      },
      "execution_count": null,
      "outputs": []
    },
    {
      "cell_type": "code",
      "source": [
        "X_train.shape"
      ],
      "metadata": {
        "id": "0rRZyii1IWmq",
        "colab": {
          "base_uri": "https://localhost:8080/"
        },
        "outputId": "3baefbd6-61ba-46c5-b957-bff63c2d0b1d"
      },
      "execution_count": null,
      "outputs": [
        {
          "output_type": "execute_result",
          "data": {
            "text/plain": [
              "(1199, 60)"
            ]
          },
          "metadata": {},
          "execution_count": 11
        }
      ]
    },
    {
      "cell_type": "code",
      "source": [
        "length = 60\n",
        "n_features = 1"
      ],
      "metadata": {
        "id": "BknoiyHTN_tb"
      },
      "execution_count": null,
      "outputs": []
    },
    {
      "cell_type": "code",
      "source": [
        "model = Sequential()\n",
        "## Write your code here\n",
        "model.add(layers.SimpleRNN(50, input_shape=(length, n_features)))\n",
        "model.add(layers.Dense(1))\n",
        "model.compile(optimizer='adam', loss='mse')"
      ],
      "metadata": {
        "id": "tb1wq3smJuDF"
      },
      "execution_count": null,
      "outputs": []
    },
    {
      "cell_type": "code",
      "source": [
        "model.summary()"
      ],
      "metadata": {
        "id": "RmitWR-Qk500",
        "colab": {
          "base_uri": "https://localhost:8080/"
        },
        "outputId": "3422b142-4b27-4102-de88-27b586922ef8"
      },
      "execution_count": null,
      "outputs": [
        {
          "output_type": "stream",
          "name": "stdout",
          "text": [
            "Model: \"sequential_1\"\n",
            "_________________________________________________________________\n",
            " Layer (type)                Output Shape              Param #   \n",
            "=================================================================\n",
            " simple_rnn (SimpleRNN)      (None, 50)                2600      \n",
            "                                                                 \n",
            " dense (Dense)               (None, 1)                 51        \n",
            "                                                                 \n",
            "=================================================================\n",
            "Total params: 2651 (10.36 KB)\n",
            "Trainable params: 2651 (10.36 KB)\n",
            "Non-trainable params: 0 (0.00 Byte)\n",
            "_________________________________________________________________\n"
          ]
        }
      ]
    },
    {
      "cell_type": "code",
      "source": [
        "model.fit(X_train1,y_train,epochs=100, batch_size=32)"
      ],
      "metadata": {
        "id": "fXZtPWTgO5T7",
        "colab": {
          "base_uri": "https://localhost:8080/"
        },
        "outputId": "f8b9caf3-b858-4195-fc27-ac44ae0b20f8"
      },
      "execution_count": null,
      "outputs": [
        {
          "output_type": "stream",
          "name": "stdout",
          "text": [
            "Epoch 1/100\n",
            "38/38 [==============================] - 4s 34ms/step - loss: 0.0057\n",
            "Epoch 2/100\n",
            "38/38 [==============================] - 1s 32ms/step - loss: 0.0010\n",
            "Epoch 3/100\n",
            "38/38 [==============================] - 1s 33ms/step - loss: 8.8507e-04\n",
            "Epoch 4/100\n",
            "38/38 [==============================] - 1s 34ms/step - loss: 7.5030e-04\n",
            "Epoch 5/100\n",
            "38/38 [==============================] - 1s 33ms/step - loss: 6.9797e-04\n",
            "Epoch 6/100\n",
            "38/38 [==============================] - 1s 32ms/step - loss: 6.5692e-04\n",
            "Epoch 7/100\n",
            "38/38 [==============================] - 1s 34ms/step - loss: 5.5191e-04\n",
            "Epoch 8/100\n",
            "38/38 [==============================] - 2s 41ms/step - loss: 4.9621e-04\n",
            "Epoch 9/100\n",
            "38/38 [==============================] - 2s 47ms/step - loss: 4.5369e-04\n",
            "Epoch 10/100\n",
            "38/38 [==============================] - 1s 32ms/step - loss: 4.3738e-04\n",
            "Epoch 11/100\n",
            "38/38 [==============================] - 1s 33ms/step - loss: 4.3383e-04\n",
            "Epoch 12/100\n",
            "38/38 [==============================] - 1s 34ms/step - loss: 4.3538e-04\n",
            "Epoch 13/100\n",
            "38/38 [==============================] - 1s 33ms/step - loss: 4.1004e-04\n",
            "Epoch 14/100\n",
            "38/38 [==============================] - 1s 33ms/step - loss: 3.3021e-04\n",
            "Epoch 15/100\n",
            "38/38 [==============================] - 1s 32ms/step - loss: 3.5331e-04\n",
            "Epoch 16/100\n",
            "38/38 [==============================] - 1s 33ms/step - loss: 3.3382e-04\n",
            "Epoch 17/100\n",
            "38/38 [==============================] - 2s 47ms/step - loss: 3.1118e-04\n",
            "Epoch 18/100\n",
            "38/38 [==============================] - 2s 44ms/step - loss: 2.8810e-04\n",
            "Epoch 19/100\n",
            "38/38 [==============================] - 1s 32ms/step - loss: 2.7265e-04\n",
            "Epoch 20/100\n",
            "38/38 [==============================] - 1s 33ms/step - loss: 2.8990e-04\n",
            "Epoch 21/100\n",
            "38/38 [==============================] - 1s 32ms/step - loss: 2.8204e-04\n",
            "Epoch 22/100\n",
            "38/38 [==============================] - 1s 32ms/step - loss: 3.3886e-04\n",
            "Epoch 23/100\n",
            "38/38 [==============================] - 1s 33ms/step - loss: 2.9607e-04\n",
            "Epoch 24/100\n",
            "38/38 [==============================] - 1s 32ms/step - loss: 2.4950e-04\n",
            "Epoch 25/100\n",
            "38/38 [==============================] - 1s 33ms/step - loss: 2.8795e-04\n",
            "Epoch 26/100\n",
            "38/38 [==============================] - 2s 46ms/step - loss: 2.4263e-04\n",
            "Epoch 27/100\n",
            "38/38 [==============================] - 2s 43ms/step - loss: 2.4079e-04\n",
            "Epoch 28/100\n",
            "38/38 [==============================] - 1s 33ms/step - loss: 2.4308e-04\n",
            "Epoch 29/100\n",
            "38/38 [==============================] - 1s 33ms/step - loss: 2.5348e-04\n",
            "Epoch 30/100\n",
            "38/38 [==============================] - 1s 32ms/step - loss: 2.8777e-04\n",
            "Epoch 31/100\n",
            "38/38 [==============================] - 1s 33ms/step - loss: 2.4522e-04\n",
            "Epoch 32/100\n",
            "38/38 [==============================] - 1s 33ms/step - loss: 2.3610e-04\n",
            "Epoch 33/100\n",
            "38/38 [==============================] - 1s 33ms/step - loss: 2.2596e-04\n",
            "Epoch 34/100\n",
            "38/38 [==============================] - 1s 33ms/step - loss: 2.1369e-04\n",
            "Epoch 35/100\n",
            "38/38 [==============================] - 2s 48ms/step - loss: 2.1300e-04\n",
            "Epoch 36/100\n",
            "38/38 [==============================] - 2s 41ms/step - loss: 2.3027e-04\n",
            "Epoch 37/100\n",
            "38/38 [==============================] - 1s 32ms/step - loss: 2.2677e-04\n",
            "Epoch 38/100\n",
            "38/38 [==============================] - 1s 33ms/step - loss: 2.0232e-04\n",
            "Epoch 39/100\n",
            "38/38 [==============================] - 1s 32ms/step - loss: 1.9999e-04\n",
            "Epoch 40/100\n",
            "38/38 [==============================] - 1s 33ms/step - loss: 2.0714e-04\n",
            "Epoch 41/100\n",
            "38/38 [==============================] - 1s 33ms/step - loss: 1.9611e-04\n",
            "Epoch 42/100\n",
            "38/38 [==============================] - 2s 44ms/step - loss: 2.1437e-04\n",
            "Epoch 43/100\n",
            "38/38 [==============================] - 1s 32ms/step - loss: 2.7019e-04\n",
            "Epoch 44/100\n",
            "38/38 [==============================] - 2s 55ms/step - loss: 2.1583e-04\n",
            "Epoch 45/100\n",
            "38/38 [==============================] - 1s 33ms/step - loss: 2.0393e-04\n",
            "Epoch 46/100\n",
            "38/38 [==============================] - 1s 33ms/step - loss: 2.0794e-04\n",
            "Epoch 47/100\n",
            "38/38 [==============================] - 1s 32ms/step - loss: 2.0271e-04\n",
            "Epoch 48/100\n",
            "38/38 [==============================] - 1s 32ms/step - loss: 1.8093e-04\n",
            "Epoch 49/100\n",
            "38/38 [==============================] - 1s 33ms/step - loss: 2.0023e-04\n",
            "Epoch 50/100\n",
            "38/38 [==============================] - 1s 33ms/step - loss: 1.9683e-04\n",
            "Epoch 51/100\n",
            "38/38 [==============================] - 1s 33ms/step - loss: 1.8896e-04\n",
            "Epoch 52/100\n",
            "38/38 [==============================] - 1s 33ms/step - loss: 2.1375e-04\n",
            "Epoch 53/100\n",
            "38/38 [==============================] - 2s 58ms/step - loss: 2.0145e-04\n",
            "Epoch 54/100\n",
            "38/38 [==============================] - 1s 31ms/step - loss: 1.8231e-04\n",
            "Epoch 55/100\n",
            "38/38 [==============================] - 1s 33ms/step - loss: 2.0608e-04\n",
            "Epoch 56/100\n",
            "38/38 [==============================] - 1s 33ms/step - loss: 2.0142e-04\n",
            "Epoch 57/100\n",
            "38/38 [==============================] - 1s 33ms/step - loss: 1.9832e-04\n",
            "Epoch 58/100\n",
            "38/38 [==============================] - 1s 33ms/step - loss: 2.1757e-04\n",
            "Epoch 59/100\n",
            "38/38 [==============================] - 1s 32ms/step - loss: 1.8205e-04\n",
            "Epoch 60/100\n",
            "38/38 [==============================] - 1s 33ms/step - loss: 1.9299e-04\n",
            "Epoch 61/100\n",
            "38/38 [==============================] - 2s 52ms/step - loss: 1.9434e-04\n",
            "Epoch 62/100\n",
            "38/38 [==============================] - 2s 50ms/step - loss: 1.7913e-04\n",
            "Epoch 63/100\n",
            "38/38 [==============================] - 1s 31ms/step - loss: 1.9859e-04\n",
            "Epoch 64/100\n",
            "38/38 [==============================] - 1s 33ms/step - loss: 1.8835e-04\n",
            "Epoch 65/100\n",
            "38/38 [==============================] - 1s 32ms/step - loss: 1.8731e-04\n",
            "Epoch 66/100\n",
            "38/38 [==============================] - 1s 32ms/step - loss: 1.7911e-04\n",
            "Epoch 67/100\n",
            "38/38 [==============================] - 1s 32ms/step - loss: 1.7104e-04\n",
            "Epoch 68/100\n",
            "38/38 [==============================] - 1s 33ms/step - loss: 1.7845e-04\n",
            "Epoch 69/100\n",
            "38/38 [==============================] - 1s 32ms/step - loss: 1.8285e-04\n",
            "Epoch 70/100\n",
            "38/38 [==============================] - 2s 40ms/step - loss: 2.0789e-04\n",
            "Epoch 71/100\n",
            "38/38 [==============================] - 2s 49ms/step - loss: 1.8167e-04\n",
            "Epoch 72/100\n",
            "38/38 [==============================] - 1s 32ms/step - loss: 1.7740e-04\n",
            "Epoch 73/100\n",
            "38/38 [==============================] - 1s 32ms/step - loss: 1.7795e-04\n",
            "Epoch 74/100\n",
            "38/38 [==============================] - 1s 32ms/step - loss: 1.8064e-04\n",
            "Epoch 75/100\n",
            "38/38 [==============================] - 1s 33ms/step - loss: 1.7045e-04\n",
            "Epoch 76/100\n",
            "38/38 [==============================] - 1s 35ms/step - loss: 1.6999e-04\n",
            "Epoch 77/100\n",
            "38/38 [==============================] - 1s 34ms/step - loss: 1.6977e-04\n",
            "Epoch 78/100\n",
            "38/38 [==============================] - 1s 32ms/step - loss: 1.9745e-04\n",
            "Epoch 79/100\n",
            "38/38 [==============================] - 2s 40ms/step - loss: 1.9014e-04\n",
            "Epoch 80/100\n",
            "38/38 [==============================] - 2s 48ms/step - loss: 1.6309e-04\n",
            "Epoch 81/100\n",
            "38/38 [==============================] - 1s 31ms/step - loss: 1.7668e-04\n",
            "Epoch 82/100\n",
            "38/38 [==============================] - 1s 32ms/step - loss: 1.8180e-04\n",
            "Epoch 83/100\n",
            "38/38 [==============================] - 1s 32ms/step - loss: 1.6802e-04\n",
            "Epoch 84/100\n",
            "38/38 [==============================] - 1s 33ms/step - loss: 1.7767e-04\n",
            "Epoch 85/100\n",
            "38/38 [==============================] - 1s 32ms/step - loss: 1.8452e-04\n",
            "Epoch 86/100\n",
            "38/38 [==============================] - 1s 33ms/step - loss: 1.9129e-04\n",
            "Epoch 87/100\n",
            "38/38 [==============================] - 1s 32ms/step - loss: 1.7770e-04\n",
            "Epoch 88/100\n",
            "38/38 [==============================] - 1s 37ms/step - loss: 1.7682e-04\n",
            "Epoch 89/100\n",
            "38/38 [==============================] - 2s 51ms/step - loss: 1.7263e-04\n",
            "Epoch 90/100\n",
            "38/38 [==============================] - 1s 32ms/step - loss: 1.9876e-04\n",
            "Epoch 91/100\n",
            "38/38 [==============================] - 1s 32ms/step - loss: 2.0349e-04\n",
            "Epoch 92/100\n",
            "38/38 [==============================] - 1s 32ms/step - loss: 1.7038e-04\n",
            "Epoch 93/100\n",
            "38/38 [==============================] - 1s 32ms/step - loss: 1.6323e-04\n",
            "Epoch 94/100\n",
            "38/38 [==============================] - 1s 33ms/step - loss: 1.7325e-04\n",
            "Epoch 95/100\n",
            "38/38 [==============================] - 1s 32ms/step - loss: 1.6377e-04\n",
            "Epoch 96/100\n",
            "38/38 [==============================] - 1s 32ms/step - loss: 1.6546e-04\n",
            "Epoch 97/100\n",
            "38/38 [==============================] - 1s 38ms/step - loss: 1.9282e-04\n",
            "Epoch 98/100\n",
            "38/38 [==============================] - 2s 52ms/step - loss: 2.0036e-04\n",
            "Epoch 99/100\n",
            "38/38 [==============================] - 1s 32ms/step - loss: 1.6566e-04\n",
            "Epoch 100/100\n",
            "38/38 [==============================] - 1s 33ms/step - loss: 1.6459e-04\n"
          ]
        },
        {
          "output_type": "execute_result",
          "data": {
            "text/plain": [
              "<keras.src.callbacks.History at 0x7f661a860d30>"
            ]
          },
          "metadata": {},
          "execution_count": 18
        }
      ]
    },
    {
      "cell_type": "code",
      "source": [
        "dataset_test = pd.read_csv('testset.csv')"
      ],
      "metadata": {
        "id": "OJzVwjRmPqDb"
      },
      "execution_count": null,
      "outputs": []
    },
    {
      "cell_type": "code",
      "source": [
        "test_set = dataset_test.iloc[:,1:2].values"
      ],
      "metadata": {
        "id": "JPrrd1n-Px7o"
      },
      "execution_count": null,
      "outputs": []
    },
    {
      "cell_type": "code",
      "source": [
        "test_set.shape"
      ],
      "metadata": {
        "id": "WQgU2aH0bHZy",
        "colab": {
          "base_uri": "https://localhost:8080/"
        },
        "outputId": "3cbb11b9-1193-482e-f93c-eadcf0413946"
      },
      "execution_count": null,
      "outputs": [
        {
          "output_type": "execute_result",
          "data": {
            "text/plain": [
              "(125, 1)"
            ]
          },
          "metadata": {},
          "execution_count": 21
        }
      ]
    },
    {
      "cell_type": "code",
      "source": [
        "dataset_total = pd.concat((dataset_train['Open'],dataset_test['Open']),axis=0)"
      ],
      "metadata": {
        "id": "jqBvI7uQa8dz"
      },
      "execution_count": null,
      "outputs": []
    },
    {
      "cell_type": "code",
      "source": [
        "inputs = dataset_total.values\n",
        "inputs = inputs.reshape(-1,1)\n",
        "inputs_scaled=sc.transform(inputs)\n",
        "X_test = []\n",
        "for i in range(60,1384):\n",
        "  X_test.append(inputs_scaled[i-60:i,0])\n",
        "X_test = np.array(X_test)\n",
        "X_test = np.reshape(X_test,(X_test.shape[0], X_test.shape[1],1))"
      ],
      "metadata": {
        "id": "V6w4Dq01QJXk"
      },
      "execution_count": null,
      "outputs": []
    },
    {
      "cell_type": "code",
      "source": [
        "X_test.shape"
      ],
      "metadata": {
        "id": "zup_dSFXbqed",
        "colab": {
          "base_uri": "https://localhost:8080/"
        },
        "outputId": "c0f3c7bf-6f1d-4e0b-b044-342e31cc11f6"
      },
      "execution_count": null,
      "outputs": [
        {
          "output_type": "execute_result",
          "data": {
            "text/plain": [
              "(1324, 60, 1)"
            ]
          },
          "metadata": {},
          "execution_count": 24
        }
      ]
    },
    {
      "cell_type": "code",
      "source": [
        "predicted_stock_price_scaled = model.predict(X_test)\n",
        "predicted_stock_price = sc.inverse_transform(predicted_stock_price_scaled)"
      ],
      "metadata": {
        "id": "M02bWmdhRneT",
        "colab": {
          "base_uri": "https://localhost:8080/"
        },
        "outputId": "279e1dbc-5913-4427-bed3-389d76aa6b47"
      },
      "execution_count": null,
      "outputs": [
        {
          "output_type": "stream",
          "name": "stdout",
          "text": [
            "42/42 [==============================] - 0s 6ms/step\n"
          ]
        }
      ]
    },
    {
      "cell_type": "code",
      "source": [
        "plt.plot(np.arange(0,1384),inputs, color='red', label = 'Test(Real) Google stock price')\n",
        "plt.plot(np.arange(60,1384),predicted_stock_price, color='blue', label = 'Predicted Google stock price')\n",
        "plt.title('Google Stock Price Prediction')\n",
        "plt.xlabel('Time')\n",
        "plt.ylabel('Google Stock Price')\n",
        "plt.legend()\n",
        "plt.show()"
      ],
      "metadata": {
        "id": "60GZR-9ZR34C",
        "colab": {
          "base_uri": "https://localhost:8080/",
          "height": 472
        },
        "outputId": "bb587a2d-96ed-40b1-b90f-63b1bedc93a5"
      },
      "execution_count": null,
      "outputs": [
        {
          "output_type": "display_data",
          "data": {
            "text/plain": [
              "<Figure size 640x480 with 1 Axes>"
            ],
            "image/png": "[encoded data removed]"
          },
          "metadata": {}
        }
      ]
    }
  ]
}